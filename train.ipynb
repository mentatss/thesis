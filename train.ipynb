{
 "cells": [
  {
   "cell_type": "code",
   "execution_count": 53,
   "metadata": {},
   "outputs": [],
   "source": [
    "from sklearn.linear_model import LinearRegression\n",
    "from sklearn.ensemble import RandomForestRegressor\n",
    "from sklearn.neighbors import KNeighborsRegressor\n",
    "from sklearn.tree import DecisionTreeRegressor\n",
    "from sklearn.model_selection import train_test_split\n",
    "from sklearn.metrics import r2_score, mean_squared_error, mean_absolute_error\n",
    "import pandas as pd\n",
    "import numpy\n",
    "from matplotlib.pyplot import plot, scatter"
   ]
  },
  {
   "cell_type": "code",
   "execution_count": 50,
   "metadata": {},
   "outputs": [],
   "source": [
    "dataset = pd.read_csv('data/dataset.csv')\n",
    "dataset_alt = pd.read_csv('data/dataset_alt.csv')"
   ]
  },
  {
   "cell_type": "code",
   "execution_count": 43,
   "metadata": {},
   "outputs": [
    {
     "name": "stdout",
     "output_type": "stream",
     "text": [
      "R2 = 50.52\n",
      "NRMSE = 0.7033847576136222\n",
      "MAE = 101.67\n"
     ]
    }
   ],
   "source": [
    "X= dataset.drop(['src', 'dst', 'runtime', 'reachable', 'depth'], axis=1)\n",
    "y= dataset['runtime']\n",
    "X_train, X_test, y_train, y_test = train_test_split(X, y, test_size=0.3)\n",
    "\n",
    "\n",
    "LR = RandomForestRegressor()\n",
    "LR.fit(X_train, y_train)\n",
    "\n",
    "Y_prediction = LR.predict(X_test)\n",
    "R2 = r2_score(y_test,Y_prediction)\n",
    "RMSE = mean_squared_error(y_test,Y_prediction, squared=False)\n",
    "MAE = mean_absolute_error(y_test,Y_prediction)\n",
    "\n",
    "print(f'''R2 = {round(R2*100,2)}\n",
    "NRMSE = {RMSE/numpy.std(y_test)}\n",
    "MAE = {round(MAE,2)}''')\n"
   ]
  },
  {
   "cell_type": "code",
   "execution_count": 34,
   "metadata": {},
   "outputs": [
    {
     "data": {
      "text/plain": [
       "array([0.00656493, 0.04201085, 0.65165012, 0.01197106, 0.28780304])"
      ]
     },
     "execution_count": 34,
     "metadata": {},
     "output_type": "execute_result"
    }
   ],
   "source": [
    "LR.feature_importances_"
   ]
  },
  {
   "cell_type": "code",
   "execution_count": 67,
   "metadata": {},
   "outputs": [
    {
     "data": {
      "text/plain": [
       "<matplotlib.collections.PathCollection at 0x1bebda4c220>"
      ]
     },
     "execution_count": 67,
     "metadata": {},
     "output_type": "execute_result"
    },
    {
     "data": {
      "image/png": "[encoded data removed]",
      "text/plain": [
       "<Figure size 432x288 with 1 Axes>"
      ]
     },
     "metadata": {
      "needs_background": "light"
     },
     "output_type": "display_data"
    }
   ],
   "source": [
    "matplotlib.pyplot.scatter(dataset['runtime'], dataset['bound'], alpha = 0.1, c = 'blue')\n",
    "matplotlib.pyplot.scatter(dataset_alt['runtime'], dataset_alt['depth'], alpha = 0.5, c = 'red') #optimized algorithm"
   ]
  }
 ],
 "metadata": {
  "interpreter": {
   "hash": "928bd999a5ff4a3bdf6a806e09fb93c3a32e743c8153080f8e4fcda420f49f45"
  },
  "kernelspec": {
   "display_name": "Python 3.8.5 64-bit",
   "language": "python",
   "name": "python3"
  },
  "language_info": {
   "codemirror_mode": {
    "name": "ipython",
    "version": 3
   },
   "file_extension": ".py",
   "mimetype": "text/x-python",
   "name": "python",
   "nbconvert_exporter": "python",
   "pygments_lexer": "ipython3",
   "version": "3.8.5"
  },
  "orig_nbformat": 4
 },
 "nbformat": 4,
 "nbformat_minor": 2
}
