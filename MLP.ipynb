{
  "cells": [
    {
      "cell_type": "code",
      "execution_count": 2,
      "metadata": {
        "id": "z-PzfRxcAmn6"
      },
      "outputs": [],
      "source": [
        "import pandas as pd\n",
        "import tensorflow as tf\n",
        "from tensorflow.keras.layers import Input, Dense\n",
        "from keras.models import Sequential\n",
        "from sklearn.metrics import mean_absolute_error, r2_score\n",
        "from math import sqrt"
      ]
    },
    {
      "cell_type": "code",
      "execution_count": 7,
      "metadata": {
        "id": "D_FlADQ6AtCq"
      },
      "outputs": [],
      "source": [
        "dataset = pd.read_csv('data/dataset_alt.csv')\n",
        "X= dataset.filter(['in_src', 'out_src', 'in_dst', 'out_dst', 'depth'], axis=1)\n",
        "y= dataset['runtime']\n"
      ]
    },
    {
      "cell_type": "code",
      "execution_count": 8,
      "metadata": {
        "id": "St-YYHvPA4FD"
      },
      "outputs": [
        {
          "name": "stdout",
          "output_type": "stream",
          "text": [
            "40.742528122067455\n",
            "50.46744934837023\n",
            "R2 = 65.59\n"
          ]
        }
      ],
      "source": [
        "from sklearn.model_selection import train_test_split\n",
        "\n",
        "X_train, X_test, y_train, y_test = train_test_split(X, y, test_size=0.2)\n",
        "\n",
        "from sklearn.preprocessing import StandardScaler\n",
        "\n",
        "sc = StandardScaler()\n",
        "X_train = sc.fit_transform(X_train)\n",
        "X_test = sc.transform(X_test)\n",
        "\n",
        "model = Sequential()\n",
        "model.add(Input(shape=(X.shape[1],)))\n",
        "model.add(Dense(100, activation='relu'))\n",
        "model.add(Dense(100, activation='relu'))\n",
        "model.add(Dense(100, activation='relu'))\n",
        "model.add(Dense(100, activation='relu'))\n",
        "model.add(Dense(100, activation='relu'))\n",
        "model.add(Dense(1))\n",
        "\n",
        "model.compile(loss='huber' , optimizer='adam', metrics=[\"mean_absolute_error\", \"mean_squared_error\"])\n",
        "history = model.fit(X_train, y_train, epochs=100, validation_split=0.2, verbose=0)\n",
        "\n",
        "pred_train = model.predict(X_train)\n",
        "print(mean_absolute_error(y_train,pred_train))\n",
        "\n",
        "pred = model.predict(X_test)\n",
        "print(mean_absolute_error(y_test,pred))\n",
        "\n",
        "R2 = r2_score(y_test,pred)\n",
        "print('R2 =', round(R2*100,2))\n"
      ]
    },
    {
      "cell_type": "code",
      "execution_count": 6,
      "metadata": {},
      "outputs": [
        {
          "data": {
            "text/plain": [
              "261.70883333333336"
            ]
          },
          "execution_count": 6,
          "metadata": {},
          "output_type": "execute_result"
        }
      ],
      "source": [
        "dataset['runtime'].mean()"
      ]
    }
  ],
  "metadata": {
    "accelerator": "GPU",
    "colab": {
      "name": "Untitled0.ipynb",
      "provenance": []
    },
    "kernelspec": {
      "display_name": "Python 3",
      "name": "python3"
    },
    "language_info": {
      "codemirror_mode": {
        "name": "ipython",
        "version": 3
      },
      "file_extension": ".py",
      "mimetype": "text/x-python",
      "name": "python",
      "nbconvert_exporter": "python",
      "pygments_lexer": "ipython3",
      "version": "3.8.5"
    }
  },
  "nbformat": 4,
  "nbformat_minor": 0
}
