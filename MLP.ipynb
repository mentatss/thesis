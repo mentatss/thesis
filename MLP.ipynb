{
  "cells": [
    {
      "cell_type": "code",
      "execution_count": null,
      "metadata": {
        "id": "z-PzfRxcAmn6"
      },
      "outputs": [],
      "source": [
        "import pandas as pd\n",
        "from tensorflow.keras.layers import Input, Dense\n",
        "from keras.models import Sequential\n",
        "from sklearn.metrics import mean_absolute_error, r2_score\n",
        "from sklearn.model_selection import train_test_split\n",
        "from sklearn.preprocessing import StandardScaler"
      ]
    },
    {
      "cell_type": "code",
      "execution_count": null,
      "metadata": {
        "id": "D_FlADQ6AtCq"
      },
      "outputs": [],
      "source": [
        "dataset = pd.read_csv('data/dataset.csv')\n",
        "X= dataset.filter(['in_src', 'out_src', 'in_dst', 'out_dst', 'bound'], axis=1)\n",
        "y= dataset['runtime']\n"
      ]
    },
    {
      "cell_type": "code",
      "execution_count": null,
      "metadata": {
        "id": "St-YYHvPA4FD"
      },
      "outputs": [],
      "source": [
        "#train and test set splitting\n",
        "X_train, X_test, y_train, y_test = train_test_split(X, y, test_size=0.2)\n",
        "\n",
        "#data scaling\n",
        "sc = StandardScaler()\n",
        "X_train = sc.fit_transform(X_train)\n",
        "X_test = sc.transform(X_test)"
      ]
    },
    {
      "cell_type": "code",
      "execution_count": null,
      "metadata": {},
      "outputs": [],
      "source": [
        "model = Sequential()\n",
        "model.add(Input(shape=(X.shape[1],)))\n",
        "for i in range(4):\n",
        "        model.add(Dense(100, activation='relu'))\n",
        "model.add(Dense(1))\n",
        "\n",
        "model.compile(loss='huber' , optimizer='adam', metrics=[\"MAE\", \"MSE\"])\n",
        "history = model.fit(X_train, y_train, epochs=100, validation_split=0.2, verbose=0)"
      ]
    },
    {
      "cell_type": "code",
      "execution_count": null,
      "metadata": {},
      "outputs": [],
      "source": [
        "#MAE score on training set\n",
        "pred_train = model.predict(X_train)\n",
        "print(mean_absolute_error(y_train,pred_train))\n",
        "\n",
        "#MAE score on test set\n",
        "pred = model.predict(X_test)\n",
        "print(mean_absolute_error(y_test,pred))\n",
        "\n",
        "#R2 score\n",
        "R2 = r2_score(y_test,pred)\n",
        "print('R2 =', round(R2*100,2))"
      ]
    }
  ],
  "metadata": {
    "accelerator": "GPU",
    "colab": {
      "name": "Untitled0.ipynb",
      "provenance": []
    },
    "kernelspec": {
      "display_name": "Python 3",
      "name": "python3"
    },
    "language_info": {
      "codemirror_mode": {
        "name": "ipython",
        "version": 3
      },
      "file_extension": ".py",
      "mimetype": "text/x-python",
      "name": "python",
      "nbconvert_exporter": "python",
      "pygments_lexer": "ipython3",
      "version": "3.8.5"
    }
  },
  "nbformat": 4,
  "nbformat_minor": 0
}
