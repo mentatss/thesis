{
 "cells": [
  {
   "cell_type": "code",
   "execution_count": null,
   "metadata": {},
   "outputs": [],
   "source": [
    "from sklearn.linear_model import LinearRegression\n",
    "from sklearn.ensemble import RandomForestRegressor\n",
    "from sklearn.tree import DecisionTreeRegressor\n",
    "from sklearn.model_selection import train_test_split\n",
    "from sklearn.metrics import r2_score, mean_absolute_error\n",
    "import pandas as pd"
   ]
  },
  {
   "cell_type": "code",
   "execution_count": null,
   "metadata": {},
   "outputs": [],
   "source": [
    "dataset = pd.read_csv('data/dataset.csv')\n",
    "# dataset_alt = pd.read_csv('data/dataset_alt.csv')"
   ]
  },
  {
   "cell_type": "code",
   "execution_count": null,
   "metadata": {},
   "outputs": [],
   "source": [
    "#split dataframe to input and output\n",
    "X= dataset.filter(['in_src', 'out_src', 'in_dst', 'out_dst', 'bound'], axis=1)\n",
    "y= dataset['runtime']"
   ]
  },
  {
   "cell_type": "code",
   "execution_count": null,
   "metadata": {},
   "outputs": [],
   "source": [
    "#split train and test set\n",
    "X_train, X_test, y_train, y_test = train_test_split(X, y, test_size=0.2)"
   ]
  },
  {
   "cell_type": "code",
   "execution_count": null,
   "metadata": {},
   "outputs": [],
   "source": [
    "#Linear regression\n",
    "LR = LinearRegression()\n",
    "LR.fit(X_train, y_train)\n",
    "\n",
    "Y_prediction = LR.predict(X_test)\n",
    "R2_LR = r2_score(y_test,Y_prediction)\n",
    "MAE_LR = mean_absolute_error(y_test,Y_prediction)\n",
    "\n",
    "print(R2_LR, MAE_LR)"
   ]
  },
  {
   "cell_type": "code",
   "execution_count": null,
   "metadata": {},
   "outputs": [],
   "source": [
    "#Regression tree\n",
    "RT = DecisionTreeRegressor()\n",
    "RT.fit(X_train, y_train)\n",
    "\n",
    "Y_prediction = RT.predict(X_test)\n",
    "R2_RT = r2_score(y_test,Y_prediction)\n",
    "MAE_RT = mean_absolute_error(y_test,Y_prediction)\n",
    "\n",
    "print(RT.feature_importances_)\n",
    "print(R2_RT, MAE_RT)"
   ]
  },
  {
   "cell_type": "code",
   "execution_count": null,
   "metadata": {},
   "outputs": [],
   "source": [
    "#Random forest\n",
    "RF = RandomForestRegressor()\n",
    "RF.fit(X_train, y_train)\n",
    "\n",
    "Y_prediction = RF.predict(X_test)\n",
    "R2_RF = r2_score(y_test,Y_prediction)\n",
    "MAE_RF = mean_absolute_error(y_test,Y_prediction)\n",
    "\n",
    "print(RF.feature_importances_)\n",
    "print(R2_RF, MAE_RF)"
   ]
  }
 ],
 "metadata": {
  "interpreter": {
   "hash": "928bd999a5ff4a3bdf6a806e09fb93c3a32e743c8153080f8e4fcda420f49f45"
  },
  "kernelspec": {
   "display_name": "Python 3.8.5 64-bit",
   "language": "python",
   "name": "python3"
  },
  "language_info": {
   "codemirror_mode": {
    "name": "ipython",
    "version": 3
   },
   "file_extension": ".py",
   "mimetype": "text/x-python",
   "name": "python",
   "nbconvert_exporter": "python",
   "pygments_lexer": "ipython3",
   "version": "3.8.5"
  },
  "orig_nbformat": 4
 },
 "nbformat": 4,
 "nbformat_minor": 2
}
