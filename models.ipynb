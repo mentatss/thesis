{
 "cells": [
  {
   "cell_type": "code",
   "execution_count": 6,
   "metadata": {},
   "outputs": [],
   "source": [
    "from sklearn.linear_model import LinearRegression\n",
    "from sklearn.ensemble import RandomForestRegressor, ExtraTreesRegressor\n",
    "from sklearn.neighbors import KNeighborsRegressor\n",
    "from sklearn.tree import DecisionTreeRegressor\n",
    "from sklearn.neural_network import MLPRegressor\n",
    "from sklearn.model_selection import train_test_split\n",
    "from sklearn.metrics import r2_score, mean_squared_error, mean_absolute_error\n",
    "import pandas as pd\n",
    "import numpy\n",
    "import matplotlib.pyplot as plt"
   ]
  },
  {
   "cell_type": "code",
   "execution_count": 2,
   "metadata": {},
   "outputs": [],
   "source": [
    "dataset = pd.read_csv('data/dataset2.csv')\n",
    "# dataset_alt = pd.read_csv('data/dataset_alt.csv')\n",
    "# dataset_test = pd.read_csv('data/test1.csv', index_col=False)"
   ]
  },
  {
   "cell_type": "code",
   "execution_count": 72,
   "metadata": {},
   "outputs": [],
   "source": [
    "X= dataset.drop(['src', 'dst', 'runtime', 'reachable', 'depth'], axis=1)\n",
    "y= dataset['runtime']\n",
    "X_train, X_test, y_train, y_test = train_test_split(X, y, test_size=0.2)\n"
   ]
  },
  {
   "cell_type": "code",
   "execution_count": 89,
   "metadata": {},
   "outputs": [],
   "source": [
    "RF = RandomForestRegressor()\n",
    "RF.fit(X_train, y_train)\n",
    "\n",
    "Y_prediction = RF.predict(X_test)\n",
    "R2_RF = r2_score(y_test,Y_prediction)\n",
    "NRMSE_RF = mean_squared_error(y_test,Y_prediction, squared=False)/numpy.std(y_test)\n",
    "MAE_RF = mean_absolute_error(y_test,Y_prediction)"
   ]
  },
  {
   "cell_type": "code",
   "execution_count": 90,
   "metadata": {},
   "outputs": [],
   "source": [
    "LR = LinearRegression()\n",
    "LR.fit(X_train, y_train)\n",
    "\n",
    "Y_prediction = LR.predict(X_test)\n",
    "R2_LR = r2_score(y_test,Y_prediction)\n",
    "NRMSE_LR = mean_squared_error(y_test,Y_prediction, squared=False)/numpy.std(y_test)\n",
    "MAE_LR = mean_absolute_error(y_test,Y_prediction)"
   ]
  },
  {
   "cell_type": "code",
   "execution_count": 91,
   "metadata": {},
   "outputs": [],
   "source": [
    "RT = DecisionTreeRegressor()\n",
    "RT.fit(X_train, y_train)\n",
    "\n",
    "Y_prediction = RT.predict(X_test)\n",
    "R2_RT = r2_score(y_test,Y_prediction)\n",
    "NRMSE_RT = mean_squared_error(y_test,Y_prediction, squared=False)/numpy.std(y_test)\n",
    "MAE_RT = mean_absolute_error(y_test,Y_prediction)"
   ]
  },
  {
   "cell_type": "code",
   "execution_count": 9,
   "metadata": {},
   "outputs": [
    {
     "data": {
      "text/plain": [
       "array([0.01903847, 0.04140014, 0.63438428, 0.01163746, 0.29353965])"
      ]
     },
     "execution_count": 9,
     "metadata": {},
     "output_type": "execute_result"
    }
   ],
   "source": [
    "LR.feature_importances_"
   ]
  },
  {
   "cell_type": "code",
   "execution_count": null,
   "metadata": {},
   "outputs": [],
   "source": [
    "fig = plt.figure()\n",
    "ax = fig.add_axes([0,0,1,1])\n",
    "model = ['LR', 'RT', 'RF']\n",
    "score = [R2_LR, R2_RT, R2_RF]\n",
    "ax.set_ylabel('R-Squared')\n",
    "ax.set_xlabel('Prediction models')\n",
    "ax.bar(model,score, 0.3)\n",
    "plt.ylim([0.2,1.0])\n",
    "plt.yticks([0.2,0.3,0.4,0.5,0.6,0.7,0.8,0.9,1.0])\n",
    "plt.show()"
   ]
  },
  {
   "cell_type": "code",
   "execution_count": 92,
   "metadata": {},
   "outputs": [
    {
     "data": {
      "image/png": "[encoded data removed]",
      "text/plain": [
       "<Figure size 432x288 with 1 Axes>"
      ]
     },
     "metadata": {
      "needs_background": "light"
     },
     "output_type": "display_data"
    }
   ],
   "source": [
    "fig = plt.figure()\n",
    "ax = fig.add_axes([0,0,1,1])\n",
    "model = ['LR', 'RT', 'RF']\n",
    "score = [MAE_LR, MAE_RT, MAE_RF]\n",
    "ax.set_ylabel('MAE')\n",
    "ax.set_xlabel('Prediction models')\n",
    "ax.bar(model,score, 0.3)\n",
    "plt.show()\n"
   ]
  },
  {
   "cell_type": "code",
   "execution_count": 109,
   "metadata": {},
   "outputs": [
    {
     "data": {
      "image/png": "[encoded data removed]",
      "text/plain": [
       "<Figure size 432x288 with 1 Axes>"
      ]
     },
     "metadata": {
      "needs_background": "light"
     },
     "output_type": "display_data"
    }
   ],
   "source": [
    "fig = plt.figure()\n",
    "ax = fig.add_axes([0,0,1,1])\n",
    "plt.xticks([1,2,3,4])\n",
    "ax.set_ylabel('Runtime (ms)')\n",
    "ax.set_xlabel('Bound')\n",
    "ax.scatter(dataset['bound'], dataset['runtime'], alpha=0.2)\n",
    "plt.show()"
   ]
  }
 ],
 "metadata": {
  "interpreter": {
   "hash": "928bd999a5ff4a3bdf6a806e09fb93c3a32e743c8153080f8e4fcda420f49f45"
  },
  "kernelspec": {
   "display_name": "Python 3.8.5 64-bit",
   "language": "python",
   "name": "python3"
  },
  "language_info": {
   "codemirror_mode": {
    "name": "ipython",
    "version": 3
   },
   "file_extension": ".py",
   "mimetype": "text/x-python",
   "name": "python",
   "nbconvert_exporter": "python",
   "pygments_lexer": "ipython3",
   "version": "3.8.5"
  },
  "orig_nbformat": 4
 },
 "nbformat": 4,
 "nbformat_minor": 2
}
