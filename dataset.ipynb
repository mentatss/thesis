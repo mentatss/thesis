{
 "cells": [
  {
   "cell_type": "code",
   "execution_count": 2,
   "metadata": {},
   "outputs": [],
   "source": [
    "import pandas as pd\n",
    "import time\n",
    "import reachable\n",
    "import random\n",
    "import helper"
   ]
  },
  {
   "cell_type": "code",
   "execution_count": 42,
   "metadata": {},
   "outputs": [],
   "source": [
    "result = pd.read_csv(\"data/template.csv\")\n",
    "id_set = pd.read_csv(\"data/idlist.csv\")"
   ]
  },
  {
   "cell_type": "code",
   "execution_count": 10,
   "metadata": {},
   "outputs": [],
   "source": [
    "for a in range(900):\n",
    "    src = id_set.sample().iat[0,0]\n",
    "    dst = id_set.sample().iat[0,0]\n",
    "    degree = random.randint(1,4)\n",
    "    \n",
    "    start_time = time.time()\n",
    "    res, depth = reachable.reachable(src, dst, degree)\n",
    "    run_time = round((time.time() - start_time))\n",
    "\n",
    "    result = result.append({'src': src, 'dst': dst, 'reachable' : res, 'distance' : depth}, ignore_index=True)\n"
   ]
  },
  {
   "cell_type": "code",
   "execution_count": 14,
   "metadata": {},
   "outputs": [],
   "source": [
    "for index, row in result.iterrows():\n",
    "    result.at[index, 'in_src']  = helper.get_inlink(row['src'])\n",
    "    result.at[index, 'out_src']  = helper.get_outlink(row['src'])\n",
    "    result.at[index, 'in_dst']  = helper.get_inlink(row['dst'])\n",
    "    result.at[index, 'out_dst']  = helper.get_outlink(row['dst'])\n",
    "\n",
    "result = result.astype(int)\n",
    "result['reachable'] = result['reachable'].astype(bool)"
   ]
  },
  {
   "cell_type": "code",
   "execution_count": 45,
   "metadata": {},
   "outputs": [],
   "source": [
    "result.to_csv('data/dataset.csv', mode='a',header=False, index= False)"
   ]
  }
 ],
 "metadata": {
  "interpreter": {
   "hash": "928bd999a5ff4a3bdf6a806e09fb93c3a32e743c8153080f8e4fcda420f49f45"
  },
  "kernelspec": {
   "display_name": "Python 3.8.5 64-bit",
   "language": "python",
   "name": "python3"
  },
  "language_info": {
   "codemirror_mode": {
    "name": "ipython",
    "version": 3
   },
   "file_extension": ".py",
   "mimetype": "text/x-python",
   "name": "python",
   "nbconvert_exporter": "python",
   "pygments_lexer": "ipython3",
   "version": "3.8.5"
  },
  "orig_nbformat": 4
 },
 "nbformat": 4,
 "nbformat_minor": 2
}
